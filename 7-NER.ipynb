{
 "cells": [
  {
   "cell_type": "markdown",
   "metadata": {},
   "source": [
    "# Named entity recognition\n",
    "Objectives:\n",
    "\n",
    "- Take 1 thousand random passages from the FIQA-PL corpus.\n",
    "- Use the lemmatized and sentence split documents (from ex. 5) to identify the expressions that consist of consecutive words starting with a capital letter (you will have to look at the inflected form of the word to check its capitalization) that do not occupy the first position in a sentence. E.g. the sentence:\n",
    "Wczoraj w Krakowie miało miejsce spotkanie prezydentów Polski i Stanów Zjednoczonych.\n",
    "should yield the following entries: Kraków, Polska, Stan Zjednoczony.\n",
    "- Compute the frequency of each identified expression and print 50 results with the largest number of occurrences.\n",
    "- Apply the NER from SpaCy to identify the named entities in the same set of documents.\n",
    "- Plot the frequency (histogram) of the identified classes.\n",
    "- Display 10 most frequent Named Entities for each identified type.\n",
    "- Display 50 most frequent Named Entities including their count and type.\n",
    "- Display 5 sentences containing at least 2 recognized named entities with different types. Highlight the recognized spans with color. \n"
   ]
  },
  {
   "cell_type": "markdown",
   "metadata": {},
   "source": [
    "## Take 1 thousand random passages from the FIQA-PL corpus.\n"
   ]
  },
  {
   "cell_type": "code",
   "execution_count": 8,
   "metadata": {},
   "outputs": [],
   "source": [
    "from datasets import load_dataset \n",
    "import pandas as pd\n",
    "import spacy\n",
    "from spacy import displacy\n",
    "from collections import Counter\n",
    "import matplotlib.pyplot as plt\n",
    "import seaborn as sns\n",
    "from collections import defaultdict"
   ]
  },
  {
   "cell_type": "code",
   "execution_count": 9,
   "metadata": {},
   "outputs": [],
   "source": [
    "nlp = spacy.load(\"pl_core_news_sm\")"
   ]
  },
  {
   "cell_type": "code",
   "execution_count": 10,
   "metadata": {},
   "outputs": [],
   "source": [
    "# Load corpus dataset\n",
    "dataset = load_dataset(\"clarin-knext/fiqa-pl\", \"corpus\")\n",
    "df = pd.DataFrame(dataset['corpus'])\n",
    "df_text = df['text']"
   ]
  },
  {
   "cell_type": "code",
   "execution_count": 11,
   "metadata": {},
   "outputs": [
    {
     "data": {
      "text/html": [
       "<div>\n",
       "<style scoped>\n",
       "    .dataframe tbody tr th:only-of-type {\n",
       "        vertical-align: middle;\n",
       "    }\n",
       "\n",
       "    .dataframe tbody tr th {\n",
       "        vertical-align: top;\n",
       "    }\n",
       "\n",
       "    .dataframe thead th {\n",
       "        text-align: right;\n",
       "    }\n",
       "</style>\n",
       "<table border=\"1\" class=\"dataframe\">\n",
       "  <thead>\n",
       "    <tr style=\"text-align: right;\">\n",
       "      <th></th>\n",
       "      <th>_id</th>\n",
       "      <th>title</th>\n",
       "      <th>text</th>\n",
       "    </tr>\n",
       "  </thead>\n",
       "  <tbody>\n",
       "    <tr>\n",
       "      <th>0</th>\n",
       "      <td>3</td>\n",
       "      <td></td>\n",
       "      <td>Nie mówię, że nie podoba mi się też pomysł szk...</td>\n",
       "    </tr>\n",
       "    <tr>\n",
       "      <th>1</th>\n",
       "      <td>31</td>\n",
       "      <td></td>\n",
       "      <td>Tak więc nic nie zapobiega fałszywym ocenom po...</td>\n",
       "    </tr>\n",
       "    <tr>\n",
       "      <th>2</th>\n",
       "      <td>56</td>\n",
       "      <td></td>\n",
       "      <td>Nigdy nie możesz korzystać z FSA dla indywidua...</td>\n",
       "    </tr>\n",
       "    <tr>\n",
       "      <th>3</th>\n",
       "      <td>59</td>\n",
       "      <td></td>\n",
       "      <td>Samsung stworzył LCD i inne technologie płaski...</td>\n",
       "    </tr>\n",
       "    <tr>\n",
       "      <th>4</th>\n",
       "      <td>63</td>\n",
       "      <td></td>\n",
       "      <td>Oto wymagania SEC: Federalne przepisy dotycząc...</td>\n",
       "    </tr>\n",
       "  </tbody>\n",
       "</table>\n",
       "</div>"
      ],
      "text/plain": [
       "  _id title                                               text\n",
       "0   3        Nie mówię, że nie podoba mi się też pomysł szk...\n",
       "1  31        Tak więc nic nie zapobiega fałszywym ocenom po...\n",
       "2  56        Nigdy nie możesz korzystać z FSA dla indywidua...\n",
       "3  59        Samsung stworzył LCD i inne technologie płaski...\n",
       "4  63        Oto wymagania SEC: Federalne przepisy dotycząc..."
      ]
     },
     "execution_count": 11,
     "metadata": {},
     "output_type": "execute_result"
    }
   ],
   "source": [
    "# Set indexes\n",
    "df.head()"
   ]
  },
  {
   "cell_type": "code",
   "execution_count": 12,
   "metadata": {},
   "outputs": [],
   "source": [
    "passages = df.sample(n=1000)\n",
    "fulltext = ' '.join(passages['text'])\n"
   ]
  },
  {
   "cell_type": "markdown",
   "metadata": {},
   "source": [
    "## Use the lemmatized and sentence split documents to identify the expressions that consist of consecutive words starting with a capital letter (you will have to look at the inflected form of the word to check its capitalization) that do not occupy the first position in a sentence."
   ]
  },
  {
   "cell_type": "code",
   "execution_count": 14,
   "metadata": {},
   "outputs": [],
   "source": [
    "ner = pd.DataFrame()"
   ]
  },
  {
   "cell_type": "code",
   "execution_count": 15,
   "metadata": {},
   "outputs": [],
   "source": [
    "# Function for preprocessing text (lemmatization and sentence split using spaCy)\n",
    "def preprocess_text(text):\n",
    "    doc = nlp(text)\n",
    "    lemmatized_sentences = [\n",
    "        \" \".join([token.lemma_ for token in sent]) for sent in doc.sents\n",
    "    ]\n",
    "    return \" \".join(lemmatized_sentences)"
   ]
  },
  {
   "cell_type": "code",
   "execution_count": 16,
   "metadata": {},
   "outputs": [
    {
     "name": "stdout",
     "output_type": "stream",
     "text": [
      "Identified Lemmatized Expressions: ['Kraków', 'Polska', 'Stany Zjednoczone']\n"
     ]
    }
   ],
   "source": [
    "def identify_named_entities_lemmatized(text):\n",
    "    doc = nlp(text)\n",
    "    expressions = []\n",
    "\n",
    "    current_expression = \"\"\n",
    "    for sent in doc.sents:\n",
    "        for i, token in enumerate(sent):\n",
    "            # Sprawdź, czy token zaczyna się od wielkiej litery i czy nie jest na początku zdania\n",
    "            if token.text.istitle() and i > 0 and len(token) > 1:\n",
    "                # Jeśli mamy już rozpoczętą grupę, dodaj do niej bieżący token\n",
    "                if current_expression:\n",
    "                    current_expression += \" \" + token.lemma_\n",
    "                else:\n",
    "                    current_expression = token.lemma_\n",
    "            # Jeśli token nie jest zapisany wielkimi literami i mamy rozpoczętą grupę, dodaj ją do listy\n",
    "            elif current_expression:\n",
    "                # Sprawdź, czy lematy tokenów w grupie są zapisane wielkimi literami\n",
    "                lemmatized_tokens = [t.lemma_ for t in nlp(current_expression)]\n",
    "                if all(lemma.istitle() for lemma in lemmatized_tokens):\n",
    "                    expressions.append(current_expression)\n",
    "                current_expression = \"\"\n",
    "\n",
    "    return expressions\n",
    "\n",
    "# Przykład użycia\n",
    "sample_text = \"Wczoraj w Krakowie miało miejsce spotkanie prezydentów Polski i Stanów Zjednoczonych.\"\n",
    "result = identify_named_entities_lemmatized(sample_text)\n",
    "print(f\"Identified Lemmatized Expressions: {result}\")"
   ]
  },
  {
   "cell_type": "code",
   "execution_count": 17,
   "metadata": {},
   "outputs": [
    {
     "name": "stdout",
     "output_type": "stream",
     "text": [
      "['Quaoar', 'Eris', 'Pluton', 'Neil Degrasse Tyson', 'Cudzoziemcy', 'Social Security Administration', 'Ciebie', 'Ciebie', 'Ciebie', 'Ciebie', 'Ciebie', 'Ciebie', 'Odpowiem', 'Baliga', 'Baliga', 'Rozszerzone', 'Najlepsze', 'Amazona', 'Money', 'Stany Zjednoczone', 'Ciebie', 'Twoją', 'Twoją', 'Adidas', 'Wilson', 'Mikasa', 'Nike', 'Balls', 'Ciebie', 'Roth', 'Amazon', 'Ciebie', 'Fidelity', 'Ameryka', 'Hongkong', 'Lehman', 'Smith', 'Najlepsze', 'Social Security', 'Social Security']\n"
     ]
    }
   ],
   "source": [
    "# Process passages and identify expressions\n",
    "identified_expressions = []\n",
    "lemmatized_and_sentence_split_text = preprocess_text(fulltext)\n",
    "expressions = identify_named_entities_lemmatized(lemmatized_and_sentence_split_text)\n",
    "identified_expressions.extend(expressions)\n",
    "\n",
    "# Display identified expressions\n",
    "print(identified_expressions[:40])"
   ]
  },
  {
   "cell_type": "code",
   "execution_count": 18,
   "metadata": {},
   "outputs": [],
   "source": [
    "identified_expressions_df = pd.DataFrame(identified_expressions)"
   ]
  },
  {
   "cell_type": "code",
   "execution_count": 19,
   "metadata": {},
   "outputs": [
    {
     "data": {
      "text/html": [
       "<div>\n",
       "<style scoped>\n",
       "    .dataframe tbody tr th:only-of-type {\n",
       "        vertical-align: middle;\n",
       "    }\n",
       "\n",
       "    .dataframe tbody tr th {\n",
       "        vertical-align: top;\n",
       "    }\n",
       "\n",
       "    .dataframe thead th {\n",
       "        text-align: right;\n",
       "    }\n",
       "</style>\n",
       "<table border=\"1\" class=\"dataframe\">\n",
       "  <thead>\n",
       "    <tr style=\"text-align: right;\">\n",
       "      <th></th>\n",
       "      <th>0</th>\n",
       "    </tr>\n",
       "  </thead>\n",
       "  <tbody>\n",
       "    <tr>\n",
       "      <th>0</th>\n",
       "      <td>Quaoar</td>\n",
       "    </tr>\n",
       "    <tr>\n",
       "      <th>1</th>\n",
       "      <td>Eris</td>\n",
       "    </tr>\n",
       "    <tr>\n",
       "      <th>2</th>\n",
       "      <td>Pluton</td>\n",
       "    </tr>\n",
       "    <tr>\n",
       "      <th>3</th>\n",
       "      <td>Neil Degrasse Tyson</td>\n",
       "    </tr>\n",
       "    <tr>\n",
       "      <th>4</th>\n",
       "      <td>Cudzoziemcy</td>\n",
       "    </tr>\n",
       "    <tr>\n",
       "      <th>5</th>\n",
       "      <td>Social Security Administration</td>\n",
       "    </tr>\n",
       "    <tr>\n",
       "      <th>6</th>\n",
       "      <td>Ciebie</td>\n",
       "    </tr>\n",
       "    <tr>\n",
       "      <th>7</th>\n",
       "      <td>Ciebie</td>\n",
       "    </tr>\n",
       "    <tr>\n",
       "      <th>8</th>\n",
       "      <td>Ciebie</td>\n",
       "    </tr>\n",
       "    <tr>\n",
       "      <th>9</th>\n",
       "      <td>Ciebie</td>\n",
       "    </tr>\n",
       "    <tr>\n",
       "      <th>10</th>\n",
       "      <td>Ciebie</td>\n",
       "    </tr>\n",
       "    <tr>\n",
       "      <th>11</th>\n",
       "      <td>Ciebie</td>\n",
       "    </tr>\n",
       "    <tr>\n",
       "      <th>12</th>\n",
       "      <td>Odpowiem</td>\n",
       "    </tr>\n",
       "    <tr>\n",
       "      <th>13</th>\n",
       "      <td>Baliga</td>\n",
       "    </tr>\n",
       "    <tr>\n",
       "      <th>14</th>\n",
       "      <td>Baliga</td>\n",
       "    </tr>\n",
       "    <tr>\n",
       "      <th>15</th>\n",
       "      <td>Rozszerzone</td>\n",
       "    </tr>\n",
       "    <tr>\n",
       "      <th>16</th>\n",
       "      <td>Najlepsze</td>\n",
       "    </tr>\n",
       "    <tr>\n",
       "      <th>17</th>\n",
       "      <td>Amazona</td>\n",
       "    </tr>\n",
       "    <tr>\n",
       "      <th>18</th>\n",
       "      <td>Money</td>\n",
       "    </tr>\n",
       "    <tr>\n",
       "      <th>19</th>\n",
       "      <td>Stany Zjednoczone</td>\n",
       "    </tr>\n",
       "    <tr>\n",
       "      <th>20</th>\n",
       "      <td>Ciebie</td>\n",
       "    </tr>\n",
       "    <tr>\n",
       "      <th>21</th>\n",
       "      <td>Twoją</td>\n",
       "    </tr>\n",
       "    <tr>\n",
       "      <th>22</th>\n",
       "      <td>Twoją</td>\n",
       "    </tr>\n",
       "    <tr>\n",
       "      <th>23</th>\n",
       "      <td>Adidas</td>\n",
       "    </tr>\n",
       "    <tr>\n",
       "      <th>24</th>\n",
       "      <td>Wilson</td>\n",
       "    </tr>\n",
       "    <tr>\n",
       "      <th>25</th>\n",
       "      <td>Mikasa</td>\n",
       "    </tr>\n",
       "    <tr>\n",
       "      <th>26</th>\n",
       "      <td>Nike</td>\n",
       "    </tr>\n",
       "    <tr>\n",
       "      <th>27</th>\n",
       "      <td>Balls</td>\n",
       "    </tr>\n",
       "    <tr>\n",
       "      <th>28</th>\n",
       "      <td>Ciebie</td>\n",
       "    </tr>\n",
       "    <tr>\n",
       "      <th>29</th>\n",
       "      <td>Roth</td>\n",
       "    </tr>\n",
       "    <tr>\n",
       "      <th>30</th>\n",
       "      <td>Amazon</td>\n",
       "    </tr>\n",
       "    <tr>\n",
       "      <th>31</th>\n",
       "      <td>Ciebie</td>\n",
       "    </tr>\n",
       "    <tr>\n",
       "      <th>32</th>\n",
       "      <td>Fidelity</td>\n",
       "    </tr>\n",
       "    <tr>\n",
       "      <th>33</th>\n",
       "      <td>Ameryka</td>\n",
       "    </tr>\n",
       "    <tr>\n",
       "      <th>34</th>\n",
       "      <td>Hongkong</td>\n",
       "    </tr>\n",
       "    <tr>\n",
       "      <th>35</th>\n",
       "      <td>Lehman</td>\n",
       "    </tr>\n",
       "    <tr>\n",
       "      <th>36</th>\n",
       "      <td>Smith</td>\n",
       "    </tr>\n",
       "    <tr>\n",
       "      <th>37</th>\n",
       "      <td>Najlepsze</td>\n",
       "    </tr>\n",
       "    <tr>\n",
       "      <th>38</th>\n",
       "      <td>Social Security</td>\n",
       "    </tr>\n",
       "    <tr>\n",
       "      <th>39</th>\n",
       "      <td>Social Security</td>\n",
       "    </tr>\n",
       "    <tr>\n",
       "      <th>40</th>\n",
       "      <td>Equifax</td>\n",
       "    </tr>\n",
       "    <tr>\n",
       "      <th>41</th>\n",
       "      <td>Google</td>\n",
       "    </tr>\n",
       "    <tr>\n",
       "      <th>42</th>\n",
       "      <td>Apple</td>\n",
       "    </tr>\n",
       "    <tr>\n",
       "      <th>43</th>\n",
       "      <td>Hej Google</td>\n",
       "    </tr>\n",
       "    <tr>\n",
       "      <th>44</th>\n",
       "      <td>Google</td>\n",
       "    </tr>\n",
       "    <tr>\n",
       "      <th>45</th>\n",
       "      <td>Apple</td>\n",
       "    </tr>\n",
       "    <tr>\n",
       "      <th>46</th>\n",
       "      <td>Google</td>\n",
       "    </tr>\n",
       "    <tr>\n",
       "      <th>47</th>\n",
       "      <td>Australia</td>\n",
       "    </tr>\n",
       "    <tr>\n",
       "      <th>48</th>\n",
       "      <td>Indie</td>\n",
       "    </tr>\n",
       "    <tr>\n",
       "      <th>49</th>\n",
       "      <td>Rozszerzone</td>\n",
       "    </tr>\n",
       "  </tbody>\n",
       "</table>\n",
       "</div>"
      ],
      "text/plain": [
       "                                 0\n",
       "0                           Quaoar\n",
       "1                             Eris\n",
       "2                           Pluton\n",
       "3              Neil Degrasse Tyson\n",
       "4                      Cudzoziemcy\n",
       "5   Social Security Administration\n",
       "6                           Ciebie\n",
       "7                           Ciebie\n",
       "8                           Ciebie\n",
       "9                           Ciebie\n",
       "10                          Ciebie\n",
       "11                          Ciebie\n",
       "12                        Odpowiem\n",
       "13                          Baliga\n",
       "14                          Baliga\n",
       "15                     Rozszerzone\n",
       "16                       Najlepsze\n",
       "17                         Amazona\n",
       "18                           Money\n",
       "19               Stany Zjednoczone\n",
       "20                          Ciebie\n",
       "21                           Twoją\n",
       "22                           Twoją\n",
       "23                          Adidas\n",
       "24                          Wilson\n",
       "25                          Mikasa\n",
       "26                            Nike\n",
       "27                           Balls\n",
       "28                          Ciebie\n",
       "29                            Roth\n",
       "30                          Amazon\n",
       "31                          Ciebie\n",
       "32                        Fidelity\n",
       "33                         Ameryka\n",
       "34                        Hongkong\n",
       "35                          Lehman\n",
       "36                           Smith\n",
       "37                       Najlepsze\n",
       "38                 Social Security\n",
       "39                 Social Security\n",
       "40                         Equifax\n",
       "41                          Google\n",
       "42                           Apple\n",
       "43                      Hej Google\n",
       "44                          Google\n",
       "45                           Apple\n",
       "46                          Google\n",
       "47                       Australia\n",
       "48                           Indie\n",
       "49                     Rozszerzone"
      ]
     },
     "execution_count": 19,
     "metadata": {},
     "output_type": "execute_result"
    }
   ],
   "source": [
    "identified_expressions_df.head(50)"
   ]
  },
  {
   "cell_type": "code",
   "execution_count": 20,
   "metadata": {},
   "outputs": [
    {
     "name": "stdout",
     "output_type": "stream",
     "text": [
      "Number od identified expressions: 1355\n"
     ]
    }
   ],
   "source": [
    "print(\"Number od identified expressions: \" + str(len(identified_expressions)))"
   ]
  },
  {
   "cell_type": "code",
   "execution_count": 21,
   "metadata": {},
   "outputs": [],
   "source": [
    "expression_counts = identified_expressions_df[0].value_counts()"
   ]
  },
  {
   "cell_type": "code",
   "execution_count": 22,
   "metadata": {},
   "outputs": [
    {
     "name": "stdout",
     "output_type": "stream",
     "text": [
      "0\n",
      "Ciebie               51\n",
      "Roth                 31\n",
      "Stany Zjednoczone    27\n",
      "Google               26\n",
      "Amazon               22\n",
      "S&P                  21\n",
      "Europe               17\n",
      "Chi                  17\n",
      "Apple                16\n",
      "Ameryka              16\n",
      "Twoją                16\n",
      "Indie                15\n",
      "Vanguard             14\n",
      "Twoich               14\n",
      "Najlepsze            12\n",
      "Aa3                  11\n",
      "A2                   11\n",
      "Europa               11\n",
      "Facebook             11\n",
      "Obama                11\n",
      "Trump                10\n",
      "Australia             9\n",
      "Internet              8\n",
      "Grecja                8\n",
      "A3                    8\n",
      "Windows               8\n",
      "Rozszerzone           8\n",
      "Stany                 7\n",
      "Amerykanin            7\n",
      "Corp                  7\n",
      "M1                    6\n",
      "A1                    6\n",
      "L1                    6\n",
      "Liz                   6\n",
      "Yahoo                 5\n",
      "Visa                  5\n",
      "M2                    5\n",
      "Izrael                5\n",
      "Yelp                  5\n",
      "S60                   5\n",
      "Fed                   5\n",
      "Wells Fargo           5\n",
      "Fidelity              5\n",
      "Home Depot            4\n",
      "Twoi                  4\n",
      "Amerykan              4\n",
      "Niemcy                4\n",
      "Hongkong              4\n",
      "Excel                 4\n",
      "Target                4\n",
      "Name: count, dtype: int64\n"
     ]
    }
   ],
   "source": [
    "print(expression_counts[:50])"
   ]
  },
  {
   "cell_type": "markdown",
   "metadata": {},
   "source": [
    "## Apply the NER from SpaCy to identify the named entities in the same set of documents."
   ]
  },
  {
   "cell_type": "code",
   "execution_count": 23,
   "metadata": {},
   "outputs": [],
   "source": [
    "# Identification using SpaCy\n",
    "ner_result = nlp(fulltext)\n",
    "ners = [(e.text, e.label_, e.start_char, e.end_char) for e in ner_result.ents]"
   ]
  },
  {
   "cell_type": "code",
   "execution_count": 24,
   "metadata": {},
   "outputs": [
    {
     "name": "stdout",
     "output_type": "stream",
     "text": [
      "Number od identified expressions: 2313\n"
     ]
    }
   ],
   "source": [
    "print(\"Number od identified expressions: \" + str(len(ners)))"
   ]
  },
  {
   "cell_type": "code",
   "execution_count": 25,
   "metadata": {},
   "outputs": [
    {
     "data": {
      "text/plain": [
       "[('azjatycki', 'geogName', 1213, 1222),\n",
       " ('Quaoar', 'persName', 1629, 1635),\n",
       " ('Eris', 'persName', 1645, 1649),\n",
       " ('2000 r.', 'date', 1667, 1674),\n",
       " ('IAU', 'orgName', 2091, 2094),\n",
       " ('24.', 'date', 2191, 2194),\n",
       " ('Neila Degrasse Tysona', 'persName', 2329, 2350),\n",
       " ('IAU', 'orgName', 2577, 2580),\n",
       " ('IRS', 'orgName', 2619, 2622),\n",
       " ('amerykański', 'placeName', 2681, 2692),\n",
       " ('Social Security Administration', 'orgName', 2769, 2799),\n",
       " ('SSN', 'orgName', 2819, 2822),\n",
       " ('Urzędu Skarbowego', 'orgName', 2898, 2915),\n",
       " ('IRS', 'orgName', 3147, 3150),\n",
       " ('OTC', 'orgName', 4016, 4019),\n",
       " ('USA', 'placeName', 8670, 8673),\n",
       " ('Baliga', 'orgName', 8674, 8680),\n",
       " ('Baliga', 'persName', 8861, 8867),\n",
       " ('039', 'orgName', 9124, 9127),\n",
       " ('Wealthsimple', 'persName', 11007, 11019),\n",
       " ('Couch Potato', 'orgName', 11181, 11193),\n",
       " ('Wealthsimple', 'placeName', 11418, 11430),\n",
       " ('\\u200b\\u200blepiej', 'orgName', 11480, 11488),\n",
       " ('SE Money', 'orgName', 11581, 11589),\n",
       " ('Wealthsimple', 'persName', 11627, 11639),\n",
       " ('Stanach Zjednoczonych', 'placeName', 12060, 12081),\n",
       " ('SSN', 'orgName', 12783, 12786),\n",
       " ('Bloomberga', 'orgName', 13600, 13610),\n",
       " ('gdybyś', 'persName', 17679, 17685),\n",
       " ('Adidas', 'persName', 18912, 18918),\n",
       " ('Wilson', 'persName', 18920, 18926),\n",
       " ('Mikasa', 'persName', 18928, 18934),\n",
       " ('Nike', 'persName', 18936, 18940),\n",
       " ('Best Soccer Balls', 'persName', 18966, 18983),\n",
       " ('studencką', 'placeName', 20231, 20240),\n",
       " ('FAFSA', 'persName', 20242, 20247),\n",
       " ('FAFSA', 'orgName', 20381, 20386),\n",
       " ('EFC', 'orgName', 20476, 20479),\n",
       " ('Roth IRA', 'orgName', 21436, 21444),\n",
       " ('Tradycyjny', 'geogName', 21589, 21599),\n",
       " ('Uberem vs Lyft', 'orgName', 21790, 21804),\n",
       " ('Lyft', 'placeName', 21908, 21912),\n",
       " ('Lyft', 'placeName', 21943, 21947),\n",
       " ('Amazonem', 'placeName', 22582, 22590),\n",
       " ('EDIT', 'persName', 23602, 23606),\n",
       " ('Fidelity', 'persName', 23943, 23951),\n",
       " ('Ameryce', 'placeName', 25054, 25061),\n",
       " ('Hongkongu', 'placeName', 25205, 25214),\n",
       " ('Lehmana', 'persName', 25870, 25877),\n",
       " ('2008 roku', 'date', 25880, 25889)]"
      ]
     },
     "execution_count": 25,
     "metadata": {},
     "output_type": "execute_result"
    }
   ],
   "source": [
    "ners[:50]"
   ]
  },
  {
   "cell_type": "code",
   "execution_count": 26,
   "metadata": {},
   "outputs": [],
   "source": [
    "# Compute the frequency of each identified expression\n",
    "expression_counts = Counter(entity[0] for entity in ners)"
   ]
  },
  {
   "cell_type": "code",
   "execution_count": 27,
   "metadata": {},
   "outputs": [
    {
     "name": "stdout",
     "output_type": "stream",
     "text": [
      "USA: 90 occurrences\n",
      "IRA: 42 occurrences\n",
      "Google: 25 occurrences\n",
      "Amazon: 23 occurrences\n",
      "Roth IRA: 22 occurrences\n",
      "ETF: 21 occurrences\n",
      "Apple: 20 occurrences\n",
      "Vanguard: 15 occurrences\n",
      "SEC: 13 occurrences\n",
      "HSA: 13 occurrences\n",
      "Stanach Zjednoczonych: 12 occurrences\n",
      "gdybyś: 12 occurrences\n",
      "S&P: 12 occurrences\n",
      "Wielkiej Brytanii: 12 occurrences\n",
      "amerykańskich: 11 occurrences\n",
      "Indiach: 10 occurrences\n",
      "Krótkoterminowy: 9 occurrences\n",
      "Trump: 9 occurrences\n",
      "jakbyś: 8 occurrences\n",
      "Stany Zjednoczone: 8 occurrences\n",
      "amerykańskie: 8 occurrences\n",
      "Facebook: 8 occurrences\n",
      "Europie: 8 occurrences\n",
      "HST: 8 occurrences\n",
      "Ameryka: 7 occurrences\n",
      "CC: 7 occurrences\n",
      "MBS: 7 occurrences\n",
      "Kanadzie: 7 occurrences\n",
      "IPO: 7 occurrences\n",
      "Obama: 7 occurrences\n",
      "Trumpa: 7 occurrences\n",
      "NYCERS: 7 occurrences\n",
      "Australii: 6 occurrences\n",
      "Stanów Zjednoczonych: 6 occurrences\n",
      "RRSP: 6 occurrences\n",
      "2011 r.: 6 occurrences\n",
      "Chiny: 6 occurrences\n",
      "Stanów Zjednoczonych”: 6 occurrences\n",
      "AGI: 6 occurrences\n",
      "EBC: 6 occurrences\n",
      "IRS: 5 occurrences\n",
      "amerykański: 5 occurrences\n",
      "Lyft: 5 occurrences\n",
      "Fidelity: 5 occurrences\n",
      "Amerykanie: 5 occurrences\n",
      "Medicare: 5 occurrences\n",
      "Gdybyś: 5 occurrences\n",
      "EPS: 5 occurrences\n",
      "Fed: 5 occurrences\n",
      "PayPal: 5 occurrences\n"
     ]
    }
   ],
   "source": [
    "# Print 50 results with the largest number of occurrences\n",
    "top_50_expressions = expression_counts.most_common(50)\n",
    "for expression, count in top_50_expressions:\n",
    "    print(f\"{expression}: {count} occurrences\")"
   ]
  },
  {
   "cell_type": "code",
   "execution_count": 28,
   "metadata": {},
   "outputs": [
    {
     "name": "stdout",
     "output_type": "stream",
     "text": [
      "geogName 106\n",
      "persName 626\n",
      "date 196\n",
      "orgName 838\n",
      "placeName 543\n",
      "time 4\n"
     ]
    }
   ],
   "source": [
    "# Compute the frequency of each identified class\n",
    "classes_ner_counts = Counter(entity[1] for entity in ners)\n",
    "for ner_type, count in classes_ner_counts.items():\n",
    "    print(ner_type, count)"
   ]
  },
  {
   "cell_type": "markdown",
   "metadata": {},
   "source": [
    "## Plot the frequency (histogram) of the identified classes.\n"
   ]
  },
  {
   "cell_type": "code",
   "execution_count": 29,
   "metadata": {},
   "outputs": [
    {
     "data": {
      "image/png": "[encoded data removed]",
      "text/plain": [
       "<Figure size 640x480 with 1 Axes>"
      ]
     },
     "metadata": {},
     "output_type": "display_data"
    }
   ],
   "source": [
    "# Wygeneruj histogram\n",
    "plt.bar(classes_ner_counts.keys(), classes_ner_counts.values())\n",
    "plt.xlabel(\"Class Name\")\n",
    "plt.ylabel(\"Frequency\")\n",
    "plt.title(\"Class Frequency Histogram\")\n",
    "plt.xticks(rotation=45, ha=\"right\")  # Obróć etykiety osi X, aby były czytelne\n",
    "plt.tight_layout()  # Dostosuj układ, aby uniknąć przecięć etykiet\n",
    "plt.show()"
   ]
  },
  {
   "cell_type": "markdown",
   "metadata": {},
   "source": [
    "## Display 10 most frequent Named Entities for each identified type.\n"
   ]
  },
  {
   "cell_type": "code",
   "execution_count": 30,
   "metadata": {},
   "outputs": [],
   "source": [
    "# Initialize defaultdict to store NER entities for each type\n",
    "ner_type_entities = defaultdict(list)\n",
    "\n",
    "# Iterate through NER entities\n",
    "for entity in ners:\n",
    "    ner_type = entity[1]  # NER entity type\n",
    "    ner_text = entity[0]  # NER entity text\n",
    "    ner_type_entities[ner_type].append(ner_text)"
   ]
  },
  {
   "cell_type": "code",
   "execution_count": 31,
   "metadata": {},
   "outputs": [
    {
     "name": "stdout",
     "output_type": "stream",
     "text": [
      "\n",
      "Top 10 Named Entities for geogName:\n",
      "Europie: 8 occurrences\n",
      "Azji: 4 occurrences\n",
      "europejskich: 4 occurrences\n",
      "Aa1: 3 occurrences\n",
      "Home Depot: 3 occurrences\n",
      "Europy: 3 occurrences\n",
      "NASDAQ: 3 occurrences\n",
      "Afryki: 2 occurrences\n",
      "Reddicie: 2 occurrences\n",
      "McDonald's: 2 occurrences\n",
      "\n",
      "Top 10 Named Entities for persName:\n",
      "Amazon: 23 occurrences\n",
      "Vanguard: 13 occurrences\n",
      "gdybyś: 12 occurrences\n",
      "Krótkoterminowy: 9 occurrences\n",
      "jakbyś: 8 occurrences\n",
      "Trump: 8 occurrences\n",
      "Obama: 7 occurrences\n",
      "Trumpa: 7 occurrences\n",
      "Fidelity: 5 occurrences\n",
      "Gdybyś: 5 occurrences\n",
      "\n",
      "Top 10 Named Entities for date:\n",
      "2011 r.: 6 occurrences\n",
      "marcu: 5 occurrences\n",
      "1956 r.: 5 occurrences\n",
      "2008 roku: 4 occurrences\n",
      "czerwcu: 4 occurrences\n",
      "2009: 3 occurrences\n",
      "2011 roku: 3 occurrences\n",
      "1984 roku: 3 occurrences\n",
      "2010: 3 occurrences\n",
      "2016: 3 occurrences\n",
      "\n",
      "Top 10 Named Entities for orgName:\n",
      "IRA: 42 occurrences\n",
      "Google: 23 occurrences\n",
      "Roth IRA: 22 occurrences\n",
      "ETF: 21 occurrences\n",
      "Apple: 19 occurrences\n",
      "SEC: 13 occurrences\n",
      "HSA: 13 occurrences\n",
      "S&P: 12 occurrences\n",
      "HST: 8 occurrences\n",
      "CC: 7 occurrences\n",
      "\n",
      "Top 10 Named Entities for placeName:\n",
      "USA: 87 occurrences\n",
      "Stanach Zjednoczonych: 12 occurrences\n",
      "Wielkiej Brytanii: 12 occurrences\n",
      "amerykańskich: 11 occurrences\n",
      "Indiach: 10 occurrences\n",
      "amerykańskie: 8 occurrences\n",
      "Ameryka: 7 occurrences\n",
      "Kanadzie: 7 occurrences\n",
      "Stany Zjednoczone: 7 occurrences\n",
      "Stanów Zjednoczonych: 6 occurrences\n",
      "\n",
      "Top 10 Named Entities for time:\n",
      "11: 1 occurrences\n",
      "6 rano: 1 occurrences\n",
      "https://blog.mon eysmart.sg/budgeting/jest-uzupelniajacym-schematem-emerytalnym-marnowaniem-czasu-i-pieniedzy/\": 1 occurrences\n",
      "15: 1 occurrences\n"
     ]
    }
   ],
   "source": [
    "# Display the top 10 Named Entities for each NER type\n",
    "for ner_type, count in classes_ner_counts.items():\n",
    "    print(f\"\\nTop 10 Named Entities for {ner_type}:\")\n",
    "    entities_counter = Counter(ner_type_entities[ner_type])\n",
    "    for entity, entity_count in entities_counter.most_common(10):\n",
    "        print(f\"{entity}: {entity_count} occurrences\")"
   ]
  },
  {
   "cell_type": "code",
   "execution_count": 32,
   "metadata": {},
   "outputs": [
    {
     "ename": "AttributeError",
     "evalue": "'Polish' object has no attribute 'explain'",
     "output_type": "error",
     "traceback": [
      "\u001b[0;31m---------------------------------------------------------------------------\u001b[0m",
      "\u001b[0;31mAttributeError\u001b[0m                            Traceback (most recent call last)",
      "Cell \u001b[0;32mIn[32], line 1\u001b[0m\n\u001b[0;32m----> 1\u001b[0m \u001b[43mnlp\u001b[49m\u001b[38;5;241;43m.\u001b[39;49m\u001b[43mexplain\u001b[49m(\u001b[38;5;124m'\u001b[39m\u001b[38;5;124mpersName\u001b[39m\u001b[38;5;124m'\u001b[39m)\n",
      "\u001b[0;31mAttributeError\u001b[0m: 'Polish' object has no attribute 'explain'"
     ]
    }
   ],
   "source": [
    "nlp.explain('persName')"
   ]
  },
  {
   "cell_type": "markdown",
   "metadata": {},
   "source": [
    "## Display 50 most frequent Named Entities including their count and type."
   ]
  },
  {
   "cell_type": "code",
   "execution_count": 33,
   "metadata": {},
   "outputs": [
    {
     "name": "stdout",
     "output_type": "stream",
     "text": [
      "USA, 90, placeName\n",
      "IRA, 42, orgName\n",
      "Google, 25, orgName\n",
      "Amazon, 23, persName\n",
      "Roth IRA, 22, orgName\n",
      "ETF, 21, orgName\n",
      "Apple, 20, orgName\n",
      "Vanguard, 15, persName\n",
      "SEC, 13, orgName\n",
      "HSA, 13, orgName\n",
      "Stanach Zjednoczonych, 12, placeName\n",
      "gdybyś, 12, persName\n",
      "S&P, 12, orgName\n",
      "Wielkiej Brytanii, 12, placeName\n",
      "amerykańskich, 11, placeName\n",
      "Indiach, 10, placeName\n",
      "Krótkoterminowy, 9, persName\n",
      "Trump, 9, persName\n",
      "jakbyś, 8, persName\n",
      "Stany Zjednoczone, 8, placeName\n",
      "amerykańskie, 8, placeName\n",
      "Facebook, 8, placeName\n",
      "Europie, 8, geogName\n",
      "HST, 8, orgName\n",
      "Ameryka, 7, placeName\n",
      "CC, 7, orgName\n",
      "MBS, 7, orgName\n",
      "Kanadzie, 7, placeName\n",
      "IPO, 7, orgName\n",
      "Obama, 7, persName\n",
      "Trumpa, 7, persName\n",
      "NYCERS, 7, orgName\n",
      "Australii, 6, placeName\n",
      "Stanów Zjednoczonych, 6, placeName\n",
      "RRSP, 6, orgName\n",
      "2011 r., 6, date\n",
      "Chiny, 6, placeName\n",
      "Stanów Zjednoczonych”, 6, orgName\n",
      "AGI, 6, orgName\n",
      "EBC, 6, orgName\n",
      "IRS, 5, orgName\n",
      "amerykański, 5, placeName\n",
      "Lyft, 5, persName\n",
      "Fidelity, 5, persName\n",
      "Amerykanie, 5, placeName\n",
      "Medicare, 5, geogName\n",
      "Gdybyś, 5, persName\n",
      "EPS, 5, orgName\n",
      "Fed, 5, persName\n",
      "PayPal, 5, orgName\n"
     ]
    }
   ],
   "source": [
    "# Utwórz słownik zliczający wystąpienia jednostek nazwanych i ich typy\n",
    "entity_counter = Counter(entity[0] for entity in ners)\n",
    "entity_types = {entity[0]: entity[1] for entity in ners}\n",
    "\n",
    "# Wyświetl 50 najczęściej występujących jednostek\n",
    "most_common_entities = entity_counter.most_common(50)\n",
    "for entity, count in most_common_entities:\n",
    "    entity_type = entity_types.get(entity)\n",
    "    print(f\"{entity}, {count}, {entity_type}\")"
   ]
  },
  {
   "cell_type": "markdown",
   "metadata": {},
   "source": [
    "## Display 5 sentences containing at least 2 recognized named entities with different types. Highlight the recognized spans with color."
   ]
  },
  {
   "cell_type": "code",
   "execution_count": 36,
   "metadata": {},
   "outputs": [
    {
     "data": {
      "text/html": [
       "<span class=\"tex2jax_ignore\"><div class=\"entities\" style=\"line-height: 2.5; direction: ltr\">&gt; nie rzucaj mi wyzwania Och proszę. Rzucam wyzwanie wszystkiemu, co tu napisałeś, w tym jeśli mamy więcej wiedzy i doświadczenia. Twoje czytanie ze zrozumieniem jest nadal okropne; nadal przypisujesz mi opinie, których nie wyraziłem, i przekręcanie opinii, które wyraziłem, aby sugerować, że nie zgadzam się z tobą w kilku punktach, w których się zgadzamy. Nie jestem prawnikiem i na pewno nie znam twojej jurysdykcji, ale ogólne wytyczne, które widziałem w tego rodzaju sytuacji, są następujące: Jeśli wszystko inne zawiedzie, możesz po prostu anulować kartę, chociaż nie jestem pewien, co odpowiedzialność musisz dotrzymać umowy. Raz anulowałem kartę, aby przestać być obciążany przez szczególnie irytującą firmę, i nie miałem żadnych problemów, ale nie jestem pewien, czy jest to dobry sposób na radzenie sobie z tym w ogóle. Pracuję w domu, kiedy nie jestem w drodze. Nie sądzę, żebym mógł wrócić do pracy przy biurku. Zaufaj swoim pracownikom, że mają dyscyplinę i wykonują dobrą pracę, a zostaniesz nagrodzony. Ci, którzy nadużywają systemu, zostaną naturalnie wyeliminowani. To nie ma znaczenia. Konwert można odtworzyć za pomocą innych instrumentów, więc nigdy nie można go usunąć z rynku. Coś jak rynek \n",
       "<mark class=\"entity\" style=\"background: #ddd; padding: 0.45em 0.6em; margin: 0 0.25em; line-height: 1; border-radius: 0.35em;\">\n",
       "    azjatycki\n",
       "    <span style=\"font-size: 0.8em; font-weight: bold; line-height: 1; border-radius: 0.35em; vertical-align: middle; margin-left: 0.5rem\">geogName</span>\n",
       "</mark>\n",
       ", który próbował usunąć opcje, kontrakty terminowe lub jakiś egzotyczny instrument pochodny. Inwestorzy właśnie stworzyli syntetyczne pozycje o tych samych właściwościach. &gt;Zmienił to w Planetarium Haydena przed głosowaniem. Zbudowali planetarium z jedną planetą mniej, zamiast dodawać 4 więcej. &gt;Nie jest. Jest masywniejszy, nie większy. Jest podobny zarówno pod względem wielkości, jak i orbity. Podobnie \n",
       "<mark class=\"entity\" style=\"background: #ddd; padding: 0.45em 0.6em; margin: 0 0.25em; line-height: 1; border-radius: 0.35em;\">\n",
       "    Quaoar\n",
       "    <span style=\"font-size: 0.8em; font-weight: bold; line-height: 1; border-radius: 0.35em; vertical-align: middle; margin-left: 0.5rem\">persName</span>\n",
       "</mark>\n",
       ", Sedna i \n",
       "<mark class=\"entity\" style=\"background: #ddd; padding: 0.45em 0.6em; margin: 0 0.25em; line-height: 1; border-radius: 0.35em;\">\n",
       "    Eris\n",
       "    <span style=\"font-size: 0.8em; font-weight: bold; line-height: 1; border-radius: 0.35em; vertical-align: middle; margin-left: 0.5rem\">persName</span>\n",
       "</mark>\n",
       ", i tak dalej. Od \n",
       "<mark class=\"entity\" style=\"background: #bfe1d9; padding: 0.45em 0.6em; margin: 0 0.25em; line-height: 1; border-radius: 0.35em;\">\n",
       "    2000 r.\n",
       "    <span style=\"font-size: 0.8em; font-weight: bold; line-height: 1; border-radius: 0.35em; vertical-align: middle; margin-left: 0.5rem\">date</span>\n",
       "</mark>\n",
       " odkryto ponad tuzin planet karłowatych, które są prawie dokładnie tej samej wielkości co Pluton, z tym samym brakiem przyciągania grawitacyjnego, aby sklasyfikować je jako planety. &gt; Definicja planety jest arbitralna i łatwo byłoby ją uwzględnić lub wykluczyć. Decyzja o skierowaniu oskarżenia o odtajnienie jest posunięciem reklamowym, które bardzo mu się udało. I znowu, byłbyś tutaj, mówiąc to samo, kurwa, gdyby \n",
       "<mark class=\"entity\" style=\"background: #ddd; padding: 0.45em 0.6em; margin: 0 0.25em; line-height: 1; border-radius: 0.35em;\">\n",
       "    IAU\n",
       "    <span style=\"font-size: 0.8em; font-weight: bold; line-height: 1; border-radius: 0.35em; vertical-align: middle; margin-left: 0.5rem\">orgName</span>\n",
       "</mark>\n",
       " poszła w inną stronę, a teraz uczyliśmy dzieci o 22 planetach Układu Słonecznego. A potem 23. i \n",
       "<mark class=\"entity\" style=\"background: #bfe1d9; padding: 0.45em 0.6em; margin: 0 0.25em; line-height: 1; border-radius: 0.35em;\">\n",
       "    24.\n",
       "    <span style=\"font-size: 0.8em; font-weight: bold; line-height: 1; border-radius: 0.35em; vertical-align: middle; margin-left: 0.5rem\">date</span>\n",
       "</mark>\n",
       " I dal</div></span>"
      ],
      "text/plain": [
       "<IPython.core.display.HTML object>"
      ]
     },
     "metadata": {},
     "output_type": "display_data"
    }
   ],
   "source": [
    "# Part of the text to display \n",
    "fragment_to_analyze = fulltext[:2200]\n",
    "doc = nlp(fragment_to_analyze)\n",
    "displacy.render(doc, style=\"ent\", jupyter=True)"
   ]
  }
 ],
 "metadata": {
  "kernelspec": {
   "display_name": "PJN",
   "language": "python",
   "name": "python3"
  },
  "language_info": {
   "codemirror_mode": {
    "name": "ipython",
    "version": 3
   },
   "file_extension": ".py",
   "mimetype": "text/x-python",
   "name": "python",
   "nbconvert_exporter": "python",
   "pygments_lexer": "ipython3",
   "version": "3.11.6"
  }
 },
 "nbformat": 4,
 "nbformat_minor": 2
}
