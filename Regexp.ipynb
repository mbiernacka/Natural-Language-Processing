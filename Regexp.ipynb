{
 "cells": [
  {
   "cell_type": "markdown",
   "id": "989a7a84",
   "metadata": {},
   "source": [
    "## Raport 1 - Przetwarzanie języka naturalnego\n",
    "\n",
    "Milena Biernacka \n",
    "\n",
    "Informatyka - Data Science\n",
    "\n",
    "402119"
   ]
  },
  {
   "cell_type": "code",
   "execution_count": 2,
   "id": "cf2c8d62",
   "metadata": {},
   "outputs": [],
   "source": [
    "from datasets import load_dataset\n",
    "import re\n",
    "import matplotlib.pyplot as plt\n",
    "from collections import Counter\n",
    "import pandas as pd\n",
    "import seaborn as sns\n",
    "%matplotlib inline"
   ]
  },
  {
   "cell_type": "code",
   "execution_count": 3,
   "id": "b54b7d6d",
   "metadata": {},
   "outputs": [
    {
     "name": "stderr",
     "output_type": "stream",
     "text": [
      "Found cached dataset fiqa-pl (/Users/milenabiernacka/.cache/huggingface/datasets/clarin-knext___fiqa-pl/corpus/0.0.0/bada00640881ee3fd04c3b88df9edd435616d17e0a46faf05e63063858742140)\n"
     ]
    },
    {
     "data": {
      "application/vnd.jupyter.widget-view+json": {
       "model_id": "a7e48cf5a85b459c8fcdd717662fa140",
       "version_major": 2,
       "version_minor": 0
      },
      "text/plain": [
       "  0%|          | 0/1 [00:00<?, ?it/s]"
      ]
     },
     "metadata": {},
     "output_type": "display_data"
    },
    {
     "data": {
      "text/plain": [
       "DatasetDict({\n",
       "    corpus: Dataset({\n",
       "        features: ['_id', 'title', 'text'],\n",
       "        num_rows: 57638\n",
       "    })\n",
       "})"
      ]
     },
     "execution_count": 3,
     "metadata": {},
     "output_type": "execute_result"
    }
   ],
   "source": [
    "# loading dataset\n",
    "dataset = load_dataset(\"clarin-knext/fiqa-pl\", \"corpus\")\n",
    "dataset"
   ]
  },
  {
   "cell_type": "code",
   "execution_count": 4,
   "id": "3b769a58",
   "metadata": {},
   "outputs": [
    {
     "data": {
      "text/html": [
       "<div>\n",
       "<style scoped>\n",
       "    .dataframe tbody tr th:only-of-type {\n",
       "        vertical-align: middle;\n",
       "    }\n",
       "\n",
       "    .dataframe tbody tr th {\n",
       "        vertical-align: top;\n",
       "    }\n",
       "\n",
       "    .dataframe thead th {\n",
       "        text-align: right;\n",
       "    }\n",
       "</style>\n",
       "<table border=\"1\" class=\"dataframe\">\n",
       "  <thead>\n",
       "    <tr style=\"text-align: right;\">\n",
       "      <th></th>\n",
       "      <th>_id</th>\n",
       "      <th>title</th>\n",
       "      <th>text</th>\n",
       "    </tr>\n",
       "  </thead>\n",
       "  <tbody>\n",
       "    <tr>\n",
       "      <th>0</th>\n",
       "      <td>3</td>\n",
       "      <td></td>\n",
       "      <td>Nie mówię, że nie podoba mi się też pomysł szk...</td>\n",
       "    </tr>\n",
       "    <tr>\n",
       "      <th>1</th>\n",
       "      <td>31</td>\n",
       "      <td></td>\n",
       "      <td>Tak więc nic nie zapobiega fałszywym ocenom po...</td>\n",
       "    </tr>\n",
       "    <tr>\n",
       "      <th>2</th>\n",
       "      <td>56</td>\n",
       "      <td></td>\n",
       "      <td>Nigdy nie możesz korzystać z FSA dla indywidua...</td>\n",
       "    </tr>\n",
       "    <tr>\n",
       "      <th>3</th>\n",
       "      <td>59</td>\n",
       "      <td></td>\n",
       "      <td>Samsung stworzył LCD i inne technologie płaski...</td>\n",
       "    </tr>\n",
       "    <tr>\n",
       "      <th>4</th>\n",
       "      <td>63</td>\n",
       "      <td></td>\n",
       "      <td>Oto wymagania SEC: Federalne przepisy dotycząc...</td>\n",
       "    </tr>\n",
       "  </tbody>\n",
       "</table>\n",
       "</div>"
      ],
      "text/plain": [
       "  _id title                                               text\n",
       "0   3        Nie mówię, że nie podoba mi się też pomysł szk...\n",
       "1  31        Tak więc nic nie zapobiega fałszywym ocenom po...\n",
       "2  56        Nigdy nie możesz korzystać z FSA dla indywidua...\n",
       "3  59        Samsung stworzył LCD i inne technologie płaski...\n",
       "4  63        Oto wymagania SEC: Federalne przepisy dotycząc..."
      ]
     },
     "execution_count": 4,
     "metadata": {},
     "output_type": "execute_result"
    }
   ],
   "source": [
    "df = dataset[\"corpus\"].to_pandas()\n",
    "df.head()"
   ]
  },
  {
   "cell_type": "code",
   "execution_count": 5,
   "id": "9ebc1087",
   "metadata": {},
   "outputs": [],
   "source": [
    "# joining all texts in one\n",
    "fulltext = ' '.join(df['text'])\n",
    "# fulltext"
   ]
  },
  {
   "cell_type": "markdown",
   "id": "d9391084",
   "metadata": {},
   "source": [
    "## zadanie 1"
   ]
  },
  {
   "cell_type": "code",
   "execution_count": 6,
   "id": "aedc93a8",
   "metadata": {},
   "outputs": [],
   "source": [
    "# date and time regexes\n",
    "hour_pattern = r'\\b(?:[01]\\d|2[0-3]):[0-5]\\d\\b'\n",
    "date_pattern = r'(\\b\\d{1,4}[-/.](0[1-9]|1[0-2])[-/.](0[1-9]|[12][0-9]|3[01])|(0[1-9]|[12][0-9]|3[01])[-/.](0[1-9]|1[0-2])[-/.]\\d{1,4}|\\d{1,2}\\s(?:stycznia|styczeń|lutego|marca|kwietnia|maja|czerwca|lipca|sierpnia|września|października|listopada|grudnia)\\d{0,4}?)\\b'"
   ]
  },
  {
   "cell_type": "markdown",
   "id": "520e9e23",
   "metadata": {},
   "source": [
    "## zadanie 2"
   ]
  },
  {
   "cell_type": "markdown",
   "id": "0deb11fb",
   "metadata": {},
   "source": [
    "### hours"
   ]
  },
  {
   "cell_type": "code",
   "execution_count": 37,
   "id": "9e02889c",
   "metadata": {},
   "outputs": [
    {
     "data": {
      "text/plain": [
       "['17:57',\n",
       " '17:57',\n",
       " '20:00',\n",
       " '17:00',\n",
       " '22:00',\n",
       " '12:00',\n",
       " '17:30',\n",
       " '15:00',\n",
       " '20:00',\n",
       " '12:03']"
      ]
     },
     "execution_count": 37,
     "metadata": {},
     "output_type": "execute_result"
    }
   ],
   "source": [
    "hours = re.findall(hour_pattern, fulltext)\n",
    "hours[:10]"
   ]
  },
  {
   "cell_type": "code",
   "execution_count": 8,
   "id": "5d8c6066",
   "metadata": {},
   "outputs": [
    {
     "data": {
      "text/plain": [
       "328"
      ]
     },
     "execution_count": 8,
     "metadata": {},
     "output_type": "execute_result"
    }
   ],
   "source": [
    "len(hours)"
   ]
  },
  {
   "cell_type": "markdown",
   "id": "ba3f74f9",
   "metadata": {},
   "source": [
    "### dates"
   ]
  },
  {
   "cell_type": "code",
   "execution_count": 38,
   "id": "f6457b05",
   "metadata": {},
   "outputs": [
    {
     "data": {
      "text/plain": [
       "['1 czerwca',\n",
       " '1 sierpnia',\n",
       " '1 sierpnia',\n",
       " '2017-10-06',\n",
       " '2017-10-06',\n",
       " '2 kwietnia',\n",
       " '30 kwietnia',\n",
       " '2017/09/09',\n",
       " '2009/07/09',\n",
       " '1 grudnia']"
      ]
     },
     "execution_count": 38,
     "metadata": {},
     "output_type": "execute_result"
    }
   ],
   "source": [
    "dates = re.findall(date_pattern, fulltext)\n",
    "dates = [date[0] for date in dates]\n",
    "dates[:10]"
   ]
  },
  {
   "cell_type": "code",
   "execution_count": 10,
   "id": "17639b2c",
   "metadata": {},
   "outputs": [
    {
     "data": {
      "text/plain": [
       "2460"
      ]
     },
     "execution_count": 10,
     "metadata": {},
     "output_type": "execute_result"
    }
   ],
   "source": [
    "len(dates)"
   ]
  },
  {
   "cell_type": "markdown",
   "id": "3de66c3d",
   "metadata": {},
   "source": [
    "## zadanie 3"
   ]
  },
  {
   "cell_type": "markdown",
   "id": "c023c64b",
   "metadata": {},
   "source": [
    "### hours"
   ]
  },
  {
   "cell_type": "code",
   "execution_count": 11,
   "id": "1136e936",
   "metadata": {
    "scrolled": false
   },
   "outputs": [],
   "source": [
    "# change to full hour\n",
    "full_hours = [hour.split(':')[0] + ':00' for hour in hours]\n",
    "full_hours = pd.DataFrame(full_hours)\n",
    "full_hours.rename(columns ={ 0 : 'hour'}, inplace=True )"
   ]
  },
  {
   "cell_type": "code",
   "execution_count": 13,
   "id": "4066de20",
   "metadata": {},
   "outputs": [
    {
     "data": {
      "image/png": "[encoded data removed]",
      "text/plain": [
       "<Figure size 640x480 with 1 Axes>"
      ]
     },
     "metadata": {},
     "output_type": "display_data"
    }
   ],
   "source": [
    "# barplot for hours\n",
    "sns.countplot(x = 'hour', data = full_hours)\n",
    "plt.xticks(rotation=80)\n",
    "plt.show()"
   ]
  },
  {
   "cell_type": "markdown",
   "id": "7a26f0b4",
   "metadata": {},
   "source": [
    "### dates"
   ]
  },
  {
   "cell_type": "code",
   "execution_count": 14,
   "id": "bfb587db",
   "metadata": {},
   "outputs": [],
   "source": [
    "# list with month names in correct form\n",
    "month_names = [\n",
    "    \"stycznia\", \"lutego\", \"marca\", \"kwietnia\", \"maja\", \"czerwca\",\n",
    "    \"lipca\", \"sierpnia\", \"września\", \"października\" ,\"listopada\", \"grudnia\"\n",
    "]"
   ]
  },
  {
   "cell_type": "code",
   "execution_count": 15,
   "id": "9f521df7",
   "metadata": {},
   "outputs": [],
   "source": [
    "# list for storing all occurances of months\n",
    "months_occ_names = []"
   ]
  },
  {
   "cell_type": "code",
   "execution_count": 16,
   "id": "9a949e76",
   "metadata": {},
   "outputs": [],
   "source": [
    "# counting months in format ex. 20 września 2021, 12 lipca\n",
    "for date in dates:\n",
    "    for month in month_names:\n",
    "        if month in date:\n",
    "            months_occ_names.append(month)"
   ]
  },
  {
   "cell_type": "code",
   "execution_count": 17,
   "id": "6739b24b",
   "metadata": {},
   "outputs": [],
   "source": [
    "# counting months in format ex. 10-09-2000, 10/09/2000\n",
    "\n",
    "months_occ_numbers= []\n",
    "# retrieving just numeric dates\n",
    "matches_numeric = re.findall(r'(\\b\\d{1,4}[-/.](0[1-9]|1[0-2])[-/.](0[1-9]|[12][0-9]|3[01])|(0[1-9]|[12][0-9]|3[01])[-/.](0[1-9]|1[0-2])[-/.]\\d{1,4})\\b', fulltext)\n",
    "matches_numeric = [match[0] for match in matches_numeric]\n",
    "\n",
    "# retrieving just month (as a number) from numeric dates\n",
    "for date in matches_numeric:\n",
    "    months_occ_numbers.append(re.split(r'[./-]', date)[1])\n",
    "\n",
    "#appending main list with month occurances with months from numeric dates\n",
    "for month in months_occ_numbers:\n",
    "    months_occ_names.append(month_names[int(month)-1])"
   ]
  },
  {
   "cell_type": "code",
   "execution_count": 18,
   "id": "ece80ede",
   "metadata": {},
   "outputs": [
    {
     "data": {
      "text/plain": [
       "True"
      ]
     },
     "execution_count": 18,
     "metadata": {},
     "output_type": "execute_result"
    }
   ],
   "source": [
    "# checking if we have all dates\n",
    "len(months_occ_names) == len(dates)"
   ]
  },
  {
   "cell_type": "code",
   "execution_count": 19,
   "id": "d6b747a0",
   "metadata": {},
   "outputs": [
    {
     "data": {
      "image/png": "[encoded data removed]",
      "text/plain": [
       "<Figure size 640x480 with 1 Axes>"
      ]
     },
     "metadata": {},
     "output_type": "display_data"
    }
   ],
   "source": [
    "months_occ_names = pd.DataFrame(months_occ_names)\n",
    "months_occ_names.rename(columns = {0:\"month\"}, inplace = True)\n",
    "\n",
    "# dates barplot\n",
    "sns.countplot(x='month', data = months_occ_names)\n",
    "plt.xticks(rotation=70)\n",
    "plt.show()"
   ]
  },
  {
   "cell_type": "markdown",
   "id": "37c6571d",
   "metadata": {},
   "source": [
    "## 4"
   ]
  },
  {
   "cell_type": "code",
   "execution_count": 20,
   "id": "11c042d8",
   "metadata": {},
   "outputs": [],
   "source": [
    "styczen_pattern =  r'\\bstycz[en][^eyaą][ńiwmauchen]{0,4}\\b'"
   ]
  },
  {
   "cell_type": "code",
   "execution_count": 21,
   "id": "b712e62e",
   "metadata": {},
   "outputs": [],
   "source": [
    "styczens = re.findall(styczen_pattern, fulltext)"
   ]
  },
  {
   "cell_type": "code",
   "execution_count": 22,
   "id": "568cd816",
   "metadata": {},
   "outputs": [],
   "source": [
    "# styczens = [item for sublist in styczens if sublist for item in sublist]\n",
    "styczens = pd.DataFrame(styczens)"
   ]
  },
  {
   "cell_type": "code",
   "execution_count": 39,
   "id": "fdca9b00",
   "metadata": {
    "scrolled": true
   },
   "outputs": [
    {
     "data": {
      "text/html": [
       "<div>\n",
       "<style scoped>\n",
       "    .dataframe tbody tr th:only-of-type {\n",
       "        vertical-align: middle;\n",
       "    }\n",
       "\n",
       "    .dataframe tbody tr th {\n",
       "        vertical-align: top;\n",
       "    }\n",
       "\n",
       "    .dataframe thead th {\n",
       "        text-align: right;\n",
       "    }\n",
       "</style>\n",
       "<table border=\"1\" class=\"dataframe\">\n",
       "  <thead>\n",
       "    <tr style=\"text-align: right;\">\n",
       "      <th></th>\n",
       "      <th>0</th>\n",
       "    </tr>\n",
       "  </thead>\n",
       "  <tbody>\n",
       "    <tr>\n",
       "      <th>0</th>\n",
       "      <td>stycznie</td>\n",
       "    </tr>\n",
       "    <tr>\n",
       "      <th>1</th>\n",
       "      <td>stycznia</td>\n",
       "    </tr>\n",
       "    <tr>\n",
       "      <th>2</th>\n",
       "      <td>stycznia</td>\n",
       "    </tr>\n",
       "    <tr>\n",
       "      <th>3</th>\n",
       "      <td>stycznia</td>\n",
       "    </tr>\n",
       "    <tr>\n",
       "      <th>4</th>\n",
       "      <td>stycznia</td>\n",
       "    </tr>\n",
       "  </tbody>\n",
       "</table>\n",
       "</div>"
      ],
      "text/plain": [
       "          0\n",
       "0  stycznie\n",
       "1  stycznia\n",
       "2  stycznia\n",
       "3  stycznia\n",
       "4  stycznia"
      ]
     },
     "execution_count": 39,
     "metadata": {},
     "output_type": "execute_result"
    }
   ],
   "source": [
    "styczens.head()"
   ]
  },
  {
   "cell_type": "code",
   "execution_count": 24,
   "id": "3713cdd0",
   "metadata": {},
   "outputs": [
    {
     "data": {
      "text/plain": [
       "458"
      ]
     },
     "execution_count": 24,
     "metadata": {},
     "output_type": "execute_result"
    }
   ],
   "source": [
    "len(styczens)"
   ]
  },
  {
   "cell_type": "code",
   "execution_count": 25,
   "id": "8df80b8e",
   "metadata": {},
   "outputs": [
    {
     "data": {
      "text/plain": [
       "array(['stycznie', 'stycznia', 'styczniem', 'styczeń', 'styczniu'],\n",
       "      dtype=object)"
      ]
     },
     "execution_count": 25,
     "metadata": {},
     "output_type": "execute_result"
    }
   ],
   "source": [
    "styczens[0].unique()"
   ]
  },
  {
   "cell_type": "markdown",
   "id": "f78df618",
   "metadata": {},
   "source": [
    "## 5"
   ]
  },
  {
   "cell_type": "code",
   "execution_count": 26,
   "id": "d2cd75d2",
   "metadata": {},
   "outputs": [],
   "source": [
    "styczen_pattern2 =  r'\\b\\d{1,2} stycz[en][^eyaą][ńiwmauchen]{0,4}\\b'"
   ]
  },
  {
   "cell_type": "code",
   "execution_count": 27,
   "id": "9f318840",
   "metadata": {},
   "outputs": [],
   "source": [
    "styczens2 = re.findall(styczen_pattern2, fulltext)"
   ]
  },
  {
   "cell_type": "code",
   "execution_count": 28,
   "id": "c47e6500",
   "metadata": {},
   "outputs": [],
   "source": [
    "styczens2 = pd.DataFrame(styczens2)"
   ]
  },
  {
   "cell_type": "code",
   "execution_count": 40,
   "id": "0fa7d2dc",
   "metadata": {},
   "outputs": [
    {
     "data": {
      "text/html": [
       "<div>\n",
       "<style scoped>\n",
       "    .dataframe tbody tr th:only-of-type {\n",
       "        vertical-align: middle;\n",
       "    }\n",
       "\n",
       "    .dataframe tbody tr th {\n",
       "        vertical-align: top;\n",
       "    }\n",
       "\n",
       "    .dataframe thead th {\n",
       "        text-align: right;\n",
       "    }\n",
       "</style>\n",
       "<table border=\"1\" class=\"dataframe\">\n",
       "  <thead>\n",
       "    <tr style=\"text-align: right;\">\n",
       "      <th></th>\n",
       "      <th>0</th>\n",
       "    </tr>\n",
       "  </thead>\n",
       "  <tbody>\n",
       "    <tr>\n",
       "      <th>0</th>\n",
       "      <td>9 stycznia</td>\n",
       "    </tr>\n",
       "    <tr>\n",
       "      <th>1</th>\n",
       "      <td>25 stycznia</td>\n",
       "    </tr>\n",
       "    <tr>\n",
       "      <th>2</th>\n",
       "      <td>19 stycznia</td>\n",
       "    </tr>\n",
       "    <tr>\n",
       "      <th>3</th>\n",
       "      <td>18 stycznia</td>\n",
       "    </tr>\n",
       "    <tr>\n",
       "      <th>4</th>\n",
       "      <td>23 stycznia</td>\n",
       "    </tr>\n",
       "  </tbody>\n",
       "</table>\n",
       "</div>"
      ],
      "text/plain": [
       "             0\n",
       "0   9 stycznia\n",
       "1  25 stycznia\n",
       "2  19 stycznia\n",
       "3  18 stycznia\n",
       "4  23 stycznia"
      ]
     },
     "execution_count": 40,
     "metadata": {},
     "output_type": "execute_result"
    }
   ],
   "source": [
    "styczens2.head()"
   ]
  },
  {
   "cell_type": "code",
   "execution_count": 30,
   "id": "5f4dddd7",
   "metadata": {},
   "outputs": [
    {
     "data": {
      "text/plain": [
       "array(['9 stycznia', '25 stycznia', '19 stycznia', '18 stycznia',\n",
       "       '23 stycznia', '29 stycznia', '17 stycznia', '1 stycznia',\n",
       "       '31 stycznia', '2 stycznia', '15 stycznia', '12 stycznia',\n",
       "       '11 stycznia', '4 stycznia', '30 stycznia', '20 stycznia',\n",
       "       '21 stycznia', '10 stycznia', '5 stycznia', '6 stycznia',\n",
       "       '8 stycznia', '3 stycznia', '08 stycznia', '13 stycznia',\n",
       "       '22 stycznia', '24 stycznia', '16 stycznia', '27 stycznia',\n",
       "       '7 stycznia', '14 stycznia', '26 stycznia'], dtype=object)"
      ]
     },
     "execution_count": 30,
     "metadata": {},
     "output_type": "execute_result"
    }
   ],
   "source": [
    "styczens2[0].unique()"
   ]
  },
  {
   "cell_type": "code",
   "execution_count": 31,
   "id": "eb04be3d",
   "metadata": {},
   "outputs": [],
   "source": [
    "# nagative lookbehind\n",
    "styczen_pattern3 = r'\\b(?<![0-9] )stycz[en][^eyaą][ńiwmauchen]{0,4}\\b'"
   ]
  },
  {
   "cell_type": "code",
   "execution_count": 32,
   "id": "27da7317",
   "metadata": {},
   "outputs": [],
   "source": [
    "styczens3 = re.findall(styczen_pattern3, fulltext)"
   ]
  },
  {
   "cell_type": "code",
   "execution_count": 33,
   "id": "c02730b4",
   "metadata": {},
   "outputs": [],
   "source": [
    "styczens3 = pd.DataFrame(styczens3)"
   ]
  },
  {
   "cell_type": "code",
   "execution_count": 41,
   "id": "05ec1322",
   "metadata": {},
   "outputs": [
    {
     "data": {
      "text/html": [
       "<div>\n",
       "<style scoped>\n",
       "    .dataframe tbody tr th:only-of-type {\n",
       "        vertical-align: middle;\n",
       "    }\n",
       "\n",
       "    .dataframe tbody tr th {\n",
       "        vertical-align: top;\n",
       "    }\n",
       "\n",
       "    .dataframe thead th {\n",
       "        text-align: right;\n",
       "    }\n",
       "</style>\n",
       "<table border=\"1\" class=\"dataframe\">\n",
       "  <thead>\n",
       "    <tr style=\"text-align: right;\">\n",
       "      <th></th>\n",
       "      <th>0</th>\n",
       "    </tr>\n",
       "  </thead>\n",
       "  <tbody>\n",
       "    <tr>\n",
       "      <th>0</th>\n",
       "      <td>stycznie</td>\n",
       "    </tr>\n",
       "    <tr>\n",
       "      <th>1</th>\n",
       "      <td>styczniem</td>\n",
       "    </tr>\n",
       "    <tr>\n",
       "      <th>2</th>\n",
       "      <td>styczeń</td>\n",
       "    </tr>\n",
       "    <tr>\n",
       "      <th>3</th>\n",
       "      <td>stycznia</td>\n",
       "    </tr>\n",
       "    <tr>\n",
       "      <th>4</th>\n",
       "      <td>stycznia</td>\n",
       "    </tr>\n",
       "  </tbody>\n",
       "</table>\n",
       "</div>"
      ],
      "text/plain": [
       "           0\n",
       "0   stycznie\n",
       "1  styczniem\n",
       "2    styczeń\n",
       "3   stycznia\n",
       "4   stycznia"
      ]
     },
     "execution_count": 41,
     "metadata": {},
     "output_type": "execute_result"
    }
   ],
   "source": [
    "styczens3.head()"
   ]
  },
  {
   "cell_type": "code",
   "execution_count": 35,
   "id": "94d10552",
   "metadata": {},
   "outputs": [
    {
     "data": {
      "text/plain": [
       "array(['stycznie', 'styczniem', 'styczeń', 'stycznia', 'styczniu'],\n",
       "      dtype=object)"
      ]
     },
     "execution_count": 35,
     "metadata": {},
     "output_type": "execute_result"
    }
   ],
   "source": [
    "styczens3[0].unique()"
   ]
  },
  {
   "cell_type": "code",
   "execution_count": 36,
   "id": "052f6327",
   "metadata": {
    "scrolled": true
   },
   "outputs": [
    {
     "data": {
      "text/plain": [
       "True"
      ]
     },
     "execution_count": 36,
     "metadata": {},
     "output_type": "execute_result"
    }
   ],
   "source": [
    "(len(styczens2) + len(styczens3)) == len (styczens)"
   ]
  },
  {
   "cell_type": "markdown",
   "id": "1cbe592f",
   "metadata": {},
   "source": [
    "## Are regular expressions good at capturing times? Are regular expressions good at capturing dates?\n"
   ]
  },
  {
   "cell_type": "markdown",
   "id": "aeaf643d",
   "metadata": {},
   "source": [
    "W mojej ocenie powiedziałaby, że to bardzo zależy. Zależy od tego na jakich tekstach pracujemy i przede wszystkim czy wiemy co się w tych tekstach znajduje. Godziny i daty są o tyle specyficznymi elementami do wyszukiwania, że nie ma właściwie jednego uniwersalnego sposobu na ich zapisanie. W każdym kraju, kulturze czy tradycji może się np. daty zapisywać inaczej, czy to zaczynając od dnia, czy to zaczynając od roku. Różnie daje się też znaki rozdzielające w datach: kropki, slashe, pauzy... W tym przypadku znajdowawały się też daty słowne, co dokładało dodatkowych trudności. A czy wspomnienie miesiąca słownie to już data czy tylko \"zwykłe\" słowo w zdaniu. \n",
    "Jeśli chodzi o czas to tutaj też jest podobna sytuacja. Czy ktoś pisze czas z \":\" czy z \".\"? Czy godziny są w formacie 24h czy 12h. Zapewne i wykorzystanie różnych stref czasowych może dołożyć kolejnych trudności. \n",
    "W takich przypadkach regexy są dość mocno skomplikowane, trzeba uwzględnić wiele możliwości, zwłaszcza jeśli się chce wyszukiwać jednym wzorcem. \n",
    "Tak jak stworzone regexy powyżej przeze mnie i zwrócone przez nich daty i godziny po przejrzeniu \"z grubsza\" wydają się być okej, to i tak dalej nie mam pewności czy uwzględniłam wszystkie przypadki i czy przypadkiem nie wyszukuje czegoś, co wyglądem przypomina datę czy godzinę, ale tak naprawdę nią nie jest.\n",
    "Podsumowując: myślę, że regexy byłyby okej, gdybyśmy mieli pewność w jakim formacie data czy godzina będą występować konkretnie i bez wyjątków. Jeśli jednak tego nie wiemy używanie ich może być uciążliwe i lepiej wybrać biblioteki dedykowane do tych rzeczy."
   ]
  },
  {
   "cell_type": "markdown",
   "id": "4f40132b",
   "metadata": {},
   "source": [
    "## How one can be sure that the expression has matched all and only the correct expressions of a given type?"
   ]
  },
  {
   "cell_type": "markdown",
   "id": "fe340dab",
   "metadata": {},
   "source": [
    "Na samym początku dobrze jest zrozumieć dokładnie do czego tak naprawdę potrzebujemy regexa i jakie są możliwe warianty poszukiwanych wyrażeń. Wydaje mi się, że przede wszystkim upewnienie się polega na wielokrotnym testowaniu zbudowanego wzorca. Najpierw sam wzorzec musi być poprawny, żeby wyszukiwał to co faktycznie chcemy znaleźć. Później trzeba sprawdzić czy nie wyszukuje nadmiarowych elementów, może istnieją jakieś \"wyjątki\"/\"specjalne przypadki\". Na pewno potrzebna jest do tego też ingerencja człowieka i użycie wiedzy eksperckiej czy po prostu doszukiwanie się błędów, których maszyna nie widzi jako błędy. Do takiego testowania dobrze jest używać już sprawdzonych tekstów, aby jasno było wiadomo czy regex działa okej."
   ]
  },
  {
   "cell_type": "code",
   "execution_count": null,
   "id": "f8a303cc",
   "metadata": {},
   "outputs": [],
   "source": []
  }
 ],
 "metadata": {
  "kernelspec": {
   "display_name": "Python 3 (ipykernel)",
   "language": "python",
   "name": "python3"
  },
  "language_info": {
   "codemirror_mode": {
    "name": "ipython",
    "version": 3
   },
   "file_extension": ".py",
   "mimetype": "text/x-python",
   "name": "python",
   "nbconvert_exporter": "python",
   "pygments_lexer": "ipython3",
   "version": "3.10.7"
  }
 },
 "nbformat": 4,
 "nbformat_minor": 5
}
